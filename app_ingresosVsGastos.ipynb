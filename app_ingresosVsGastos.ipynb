{
  "cells": [
    {
      "cell_type": "markdown",
      "metadata": {
        "id": "c5ztv8d5BD2h"
      },
      "source": [
        "https://upload.wikimedia.org/wikipedia/commons/c/ce/Logo-ITM-01.png"
      ]
    },
    {
      "cell_type": "markdown",
      "metadata": {
        "id": "4M_e86Pck49P"
      },
      "source": [
        "# Primero instalamos las librerías necesarias"
      ]
    },
    {
      "cell_type": "code",
      "execution_count": 1,
      "metadata": {
        "colab": {
          "base_uri": "https://localhost:8080/"
        },
        "collapsed": true,
        "id": "6eCTJV90krKg",
        "outputId": "7ad2eeac-a2a6-4e07-ae54-7ec3007314b8"
      },
      "outputs": [
        {
          "output_type": "stream",
          "name": "stdout",
          "text": [
            "Collecting dash\n",
            "  Downloading dash-2.18.2-py3-none-any.whl.metadata (10 kB)\n",
            "Collecting jupyter-dash\n",
            "  Downloading jupyter_dash-0.4.2-py3-none-any.whl.metadata (3.6 kB)\n",
            "Requirement already satisfied: pandas in /usr/local/lib/python3.10/dist-packages (2.2.2)\n",
            "Requirement already satisfied: plotly in /usr/local/lib/python3.10/dist-packages (5.24.1)\n",
            "Requirement already satisfied: openpyxl in /usr/local/lib/python3.10/dist-packages (3.1.5)\n",
            "Requirement already satisfied: Flask<3.1,>=1.0.4 in /usr/local/lib/python3.10/dist-packages (from dash) (3.0.3)\n",
            "Collecting Werkzeug<3.1 (from dash)\n",
            "  Downloading werkzeug-3.0.6-py3-none-any.whl.metadata (3.7 kB)\n",
            "Collecting dash-html-components==2.0.0 (from dash)\n",
            "  Downloading dash_html_components-2.0.0-py3-none-any.whl.metadata (3.8 kB)\n",
            "Collecting dash-core-components==2.0.0 (from dash)\n",
            "  Downloading dash_core_components-2.0.0-py3-none-any.whl.metadata (2.9 kB)\n",
            "Collecting dash-table==5.0.0 (from dash)\n",
            "  Downloading dash_table-5.0.0-py3-none-any.whl.metadata (2.4 kB)\n",
            "Requirement already satisfied: importlib-metadata in /usr/local/lib/python3.10/dist-packages (from dash) (8.5.0)\n",
            "Requirement already satisfied: typing-extensions>=4.1.1 in /usr/local/lib/python3.10/dist-packages (from dash) (4.12.2)\n",
            "Requirement already satisfied: requests in /usr/local/lib/python3.10/dist-packages (from dash) (2.32.3)\n",
            "Collecting retrying (from dash)\n",
            "  Downloading retrying-1.3.4-py3-none-any.whl.metadata (6.9 kB)\n",
            "Requirement already satisfied: nest-asyncio in /usr/local/lib/python3.10/dist-packages (from dash) (1.6.0)\n",
            "Requirement already satisfied: setuptools in /usr/local/lib/python3.10/dist-packages (from dash) (75.1.0)\n",
            "Requirement already satisfied: ipython in /usr/local/lib/python3.10/dist-packages (from jupyter-dash) (7.34.0)\n",
            "Requirement already satisfied: ipykernel in /usr/local/lib/python3.10/dist-packages (from jupyter-dash) (5.5.6)\n",
            "Collecting ansi2html (from jupyter-dash)\n",
            "  Downloading ansi2html-1.9.2-py3-none-any.whl.metadata (3.7 kB)\n",
            "Requirement already satisfied: numpy>=1.22.4 in /usr/local/lib/python3.10/dist-packages (from pandas) (1.26.4)\n",
            "Requirement already satisfied: python-dateutil>=2.8.2 in /usr/local/lib/python3.10/dist-packages (from pandas) (2.8.2)\n",
            "Requirement already satisfied: pytz>=2020.1 in /usr/local/lib/python3.10/dist-packages (from pandas) (2024.2)\n",
            "Requirement already satisfied: tzdata>=2022.7 in /usr/local/lib/python3.10/dist-packages (from pandas) (2024.2)\n",
            "Requirement already satisfied: tenacity>=6.2.0 in /usr/local/lib/python3.10/dist-packages (from plotly) (9.0.0)\n",
            "Requirement already satisfied: packaging in /usr/local/lib/python3.10/dist-packages (from plotly) (24.2)\n",
            "Requirement already satisfied: et-xmlfile in /usr/local/lib/python3.10/dist-packages (from openpyxl) (2.0.0)\n",
            "Requirement already satisfied: Jinja2>=3.1.2 in /usr/local/lib/python3.10/dist-packages (from Flask<3.1,>=1.0.4->dash) (3.1.4)\n",
            "Requirement already satisfied: itsdangerous>=2.1.2 in /usr/local/lib/python3.10/dist-packages (from Flask<3.1,>=1.0.4->dash) (2.2.0)\n",
            "Requirement already satisfied: click>=8.1.3 in /usr/local/lib/python3.10/dist-packages (from Flask<3.1,>=1.0.4->dash) (8.1.7)\n",
            "Requirement already satisfied: blinker>=1.6.2 in /usr/local/lib/python3.10/dist-packages (from Flask<3.1,>=1.0.4->dash) (1.9.0)\n",
            "Requirement already satisfied: six>=1.5 in /usr/local/lib/python3.10/dist-packages (from python-dateutil>=2.8.2->pandas) (1.16.0)\n",
            "Requirement already satisfied: MarkupSafe>=2.1.1 in /usr/local/lib/python3.10/dist-packages (from Werkzeug<3.1->dash) (3.0.2)\n",
            "Requirement already satisfied: zipp>=3.20 in /usr/local/lib/python3.10/dist-packages (from importlib-metadata->dash) (3.21.0)\n",
            "Requirement already satisfied: ipython-genutils in /usr/local/lib/python3.10/dist-packages (from ipykernel->jupyter-dash) (0.2.0)\n",
            "Requirement already satisfied: traitlets>=4.1.0 in /usr/local/lib/python3.10/dist-packages (from ipykernel->jupyter-dash) (5.7.1)\n",
            "Requirement already satisfied: jupyter-client in /usr/local/lib/python3.10/dist-packages (from ipykernel->jupyter-dash) (6.1.12)\n",
            "Requirement already satisfied: tornado>=4.2 in /usr/local/lib/python3.10/dist-packages (from ipykernel->jupyter-dash) (6.3.3)\n",
            "Collecting jedi>=0.16 (from ipython->jupyter-dash)\n",
            "  Downloading jedi-0.19.2-py2.py3-none-any.whl.metadata (22 kB)\n",
            "Requirement already satisfied: decorator in /usr/local/lib/python3.10/dist-packages (from ipython->jupyter-dash) (4.4.2)\n",
            "Requirement already satisfied: pickleshare in /usr/local/lib/python3.10/dist-packages (from ipython->jupyter-dash) (0.7.5)\n",
            "Requirement already satisfied: prompt-toolkit!=3.0.0,!=3.0.1,<3.1.0,>=2.0.0 in /usr/local/lib/python3.10/dist-packages (from ipython->jupyter-dash) (3.0.48)\n",
            "Requirement already satisfied: pygments in /usr/local/lib/python3.10/dist-packages (from ipython->jupyter-dash) (2.18.0)\n",
            "Requirement already satisfied: backcall in /usr/local/lib/python3.10/dist-packages (from ipython->jupyter-dash) (0.2.0)\n",
            "Requirement already satisfied: matplotlib-inline in /usr/local/lib/python3.10/dist-packages (from ipython->jupyter-dash) (0.1.7)\n",
            "Requirement already satisfied: pexpect>4.3 in /usr/local/lib/python3.10/dist-packages (from ipython->jupyter-dash) (4.9.0)\n",
            "Requirement already satisfied: charset-normalizer<4,>=2 in /usr/local/lib/python3.10/dist-packages (from requests->dash) (3.4.0)\n",
            "Requirement already satisfied: idna<4,>=2.5 in /usr/local/lib/python3.10/dist-packages (from requests->dash) (3.10)\n",
            "Requirement already satisfied: urllib3<3,>=1.21.1 in /usr/local/lib/python3.10/dist-packages (from requests->dash) (2.2.3)\n",
            "Requirement already satisfied: certifi>=2017.4.17 in /usr/local/lib/python3.10/dist-packages (from requests->dash) (2024.8.30)\n",
            "Requirement already satisfied: parso<0.9.0,>=0.8.4 in /usr/local/lib/python3.10/dist-packages (from jedi>=0.16->ipython->jupyter-dash) (0.8.4)\n",
            "Requirement already satisfied: ptyprocess>=0.5 in /usr/local/lib/python3.10/dist-packages (from pexpect>4.3->ipython->jupyter-dash) (0.7.0)\n",
            "Requirement already satisfied: wcwidth in /usr/local/lib/python3.10/dist-packages (from prompt-toolkit!=3.0.0,!=3.0.1,<3.1.0,>=2.0.0->ipython->jupyter-dash) (0.2.13)\n",
            "Requirement already satisfied: jupyter-core>=4.6.0 in /usr/local/lib/python3.10/dist-packages (from jupyter-client->ipykernel->jupyter-dash) (5.7.2)\n",
            "Requirement already satisfied: pyzmq>=13 in /usr/local/lib/python3.10/dist-packages (from jupyter-client->ipykernel->jupyter-dash) (24.0.1)\n",
            "Requirement already satisfied: platformdirs>=2.5 in /usr/local/lib/python3.10/dist-packages (from jupyter-core>=4.6.0->jupyter-client->ipykernel->jupyter-dash) (4.3.6)\n",
            "Downloading dash-2.18.2-py3-none-any.whl (7.8 MB)\n",
            "\u001b[2K   \u001b[90m━━━━━━━━━━━━━━━━━━━━━━━━━━━━━━━━━━━━━━━━\u001b[0m \u001b[32m7.8/7.8 MB\u001b[0m \u001b[31m29.0 MB/s\u001b[0m eta \u001b[36m0:00:00\u001b[0m\n",
            "\u001b[?25hDownloading dash_core_components-2.0.0-py3-none-any.whl (3.8 kB)\n",
            "Downloading dash_html_components-2.0.0-py3-none-any.whl (4.1 kB)\n",
            "Downloading dash_table-5.0.0-py3-none-any.whl (3.9 kB)\n",
            "Downloading jupyter_dash-0.4.2-py3-none-any.whl (23 kB)\n",
            "Downloading werkzeug-3.0.6-py3-none-any.whl (227 kB)\n",
            "\u001b[2K   \u001b[90m━━━━━━━━━━━━━━━━━━━━━━━━━━━━━━━━━━━━━━━━\u001b[0m \u001b[32m228.0/228.0 kB\u001b[0m \u001b[31m12.9 MB/s\u001b[0m eta \u001b[36m0:00:00\u001b[0m\n",
            "\u001b[?25hDownloading ansi2html-1.9.2-py3-none-any.whl (17 kB)\n",
            "Downloading retrying-1.3.4-py3-none-any.whl (11 kB)\n",
            "Downloading jedi-0.19.2-py2.py3-none-any.whl (1.6 MB)\n",
            "\u001b[2K   \u001b[90m━━━━━━━━━━━━━━━━━━━━━━━━━━━━━━━━━━━━━━━━\u001b[0m \u001b[32m1.6/1.6 MB\u001b[0m \u001b[31m25.1 MB/s\u001b[0m eta \u001b[36m0:00:00\u001b[0m\n",
            "\u001b[?25hInstalling collected packages: dash-table, dash-html-components, dash-core-components, Werkzeug, retrying, jedi, ansi2html, dash, jupyter-dash\n",
            "  Attempting uninstall: Werkzeug\n",
            "    Found existing installation: Werkzeug 3.1.3\n",
            "    Uninstalling Werkzeug-3.1.3:\n",
            "      Successfully uninstalled Werkzeug-3.1.3\n",
            "Successfully installed Werkzeug-3.0.6 ansi2html-1.9.2 dash-2.18.2 dash-core-components-2.0.0 dash-html-components-2.0.0 dash-table-5.0.0 jedi-0.19.2 jupyter-dash-0.4.2 retrying-1.3.4\n"
          ]
        }
      ],
      "source": [
        "!pip install dash jupyter-dash pandas plotly openpyxl"
      ]
    },
    {
      "cell_type": "code",
      "execution_count": 2,
      "metadata": {
        "collapsed": true,
        "id": "XndCDodNqZpG",
        "colab": {
          "base_uri": "https://localhost:8080/"
        },
        "outputId": "553cf169-d36b-4253-baf6-dabf4c3d03ab"
      },
      "outputs": [
        {
          "output_type": "stream",
          "name": "stdout",
          "text": [
            "drive/MyDrive/Colab Notebooks/ingresos_gastos.xlsx\n"
          ]
        }
      ],
      "source": [
        "!find drive -name \"ingresos_gastos.xlsx\""
      ]
    },
    {
      "cell_type": "code",
      "execution_count": 3,
      "metadata": {
        "colab": {
          "base_uri": "https://localhost:8080/"
        },
        "collapsed": true,
        "id": "w40Uuda-r-cc",
        "outputId": "64adecc7-08b4-4a77-c954-b15dee1a445a"
      },
      "outputs": [
        {
          "output_type": "stream",
          "name": "stdout",
          "text": [
            "Collecting pyngrok\n",
            "  Downloading pyngrok-7.2.1-py3-none-any.whl.metadata (8.3 kB)\n",
            "Requirement already satisfied: PyYAML>=5.1 in /usr/local/lib/python3.10/dist-packages (from pyngrok) (6.0.2)\n",
            "Downloading pyngrok-7.2.1-py3-none-any.whl (22 kB)\n",
            "Installing collected packages: pyngrok\n",
            "Successfully installed pyngrok-7.2.1\n"
          ]
        }
      ],
      "source": [
        "!pip install pyngrok"
      ]
    },
    {
      "cell_type": "markdown",
      "source": [
        "# Creación del codigo que analiza la información contable compartida"
      ],
      "metadata": {
        "id": "Lo8fDXlyHAEY"
      }
    },
    {
      "cell_type": "code",
      "execution_count": 4,
      "metadata": {
        "colab": {
          "base_uri": "https://localhost:8080/",
          "height": 689
        },
        "collapsed": true,
        "id": "gDcXbLX2xiil",
        "outputId": "0aab3f50-edd3-4ac1-e16d-566cfebe9fd0"
      },
      "outputs": [
        {
          "output_type": "stream",
          "name": "stdout",
          "text": []
        },
        {
          "output_type": "display_data",
          "data": {
            "text/plain": [
              "<IPython.core.display.Javascript object>"
            ],
            "application/javascript": [
              "(async (port, path, width, height, cache, element) => {\n",
              "    if (!google.colab.kernel.accessAllowed && !cache) {\n",
              "      return;\n",
              "    }\n",
              "    element.appendChild(document.createTextNode(''));\n",
              "    const url = await google.colab.kernel.proxyPort(port, {cache});\n",
              "    const iframe = document.createElement('iframe');\n",
              "    iframe.src = new URL(path, url).toString();\n",
              "    iframe.height = height;\n",
              "    iframe.width = width;\n",
              "    iframe.style.border = 0;\n",
              "    iframe.allow = [\n",
              "        'accelerometer',\n",
              "        'autoplay',\n",
              "        'camera',\n",
              "        'clipboard-read',\n",
              "        'clipboard-write',\n",
              "        'gyroscope',\n",
              "        'magnetometer',\n",
              "        'microphone',\n",
              "        'serial',\n",
              "        'usb',\n",
              "        'xr-spatial-tracking',\n",
              "    ].join('; ');\n",
              "    element.appendChild(iframe);\n",
              "  })(8050, \"/\", \"100%\", 650, false, window.element)"
            ]
          },
          "metadata": {}
        },
        {
          "output_type": "stream",
          "name": "stdout",
          "text": [
            "Dash app URL: NgrokTunnel: \"https://e8d0-35-201-205-61.ngrok-free.app\" -> \"http://localhost:8050\"\n"
          ]
        }
      ],
      "source": [
        "import pandas as pd\n",
        "import plotly.express as px\n",
        "from dash import Dash, dcc, html, Input, Output, dash_table\n",
        "import threading\n",
        "from pyngrok import ngrok\n",
        "import numpy as np\n",
        "from sklearn.linear_model import LinearRegression\n",
        "\n",
        "# Configurar el token de autenticación de ngrok\n",
        "ngrok.set_auth_token(\"2l5emrASGzaFh9GJUduLuJGWK2y_2XrXnm1GTy8RgRLQ2rd5J\")\n",
        "\n",
        "# Cargar los datos\n",
        "df = pd.read_excel('drive/MyDrive/Colab Notebooks/ingresos_gastos.xlsx')\n",
        "\n",
        "# Limpieza de los datos del Excel\n",
        "df['Ingresos'] = pd.to_numeric(df['Ingresos'], errors='coerce')\n",
        "df['Gastos'] = pd.to_numeric(df['Gastos'], errors='coerce')\n",
        "df = df.dropna(subset=['Ingresos', 'Gastos'], how='all') # Eliminar los datos que puedan estar vacíos en ambas columnas, lo que indica que no lo debo tener en cuenta\n",
        "\n",
        "# Inicializar la aplicación\n",
        "app = Dash(__name__)\n",
        "\n",
        "# Diseño del dashboard\n",
        "app.layout = html.Div([\n",
        "    html.H1('Dashboard de Ingresos y Gastos'),\n",
        "\n",
        "    html.Div([\n",
        "        dcc.Dropdown(\n",
        "            id='mes-dropdown',\n",
        "            options=[{'label': mes, 'value': mes} for mes in df['Mes'].unique()],\n",
        "            multi=True,\n",
        "            placeholder='Seleccione mes(es)',\n",
        "            style={'width': '50%'}\n",
        "        ),\n",
        "        dcc.Dropdown(\n",
        "            id='categoria-dropdown',\n",
        "            options=[{'label': cat, 'value': cat} for cat in df['Categoría'].unique()],\n",
        "            multi=True,\n",
        "            placeholder='Seleccione categoría(s)',\n",
        "            style={'width': '50%'}\n",
        "        )\n",
        "    ]),\n",
        "\n",
        "    html.Div([\n",
        "        dcc.Graph(id='ingresos-gastos-graph'),\n",
        "        dcc.Graph(id='categoria-pie-chart'),\n",
        "        dcc.Graph(id='margen-neto-graph'),\n",
        "        html.Div(id='scorecard')\n",
        "    ]),\n",
        "\n",
        "    dash_table.DataTable(\n",
        "        id='tabla-resumen',\n",
        "        columns=[{\"name\": i, \"id\": i} for i in df.columns],\n",
        "        style_table={'height': '300px', 'overflowY': 'auto'}\n",
        "    )\n",
        "])\n",
        "\n",
        "# Callbacks para actualizar los gráficos y la tabla\n",
        "@app.callback(\n",
        "    [Output('ingresos-gastos-graph', 'figure'),\n",
        "     Output('categoria-pie-chart', 'figure'),\n",
        "     Output('margen-neto-graph', 'figure'),\n",
        "     Output('scorecard', 'children'),\n",
        "     Output('tabla-resumen', 'data')],\n",
        "    [Input('mes-dropdown', 'value'),\n",
        "     Input('categoria-dropdown', 'value')]\n",
        ")\n",
        "def update_graphs(meses_seleccionados, categorias_seleccionadas):\n",
        "    dff = df.copy()\n",
        "\n",
        "    if meses_seleccionados:\n",
        "        dff = dff[dff['Mes'].isin(meses_seleccionados)]\n",
        "    if categorias_seleccionadas:\n",
        "        dff = dff[dff['Categoría'].isin(categorias_seleccionadas)]\n",
        "\n",
        "    # Gráfico de barras apiladas de ingresos y gastos\n",
        "    dff_melted = dff.melt(id_vars=['Mes', 'Categoría'], value_vars=['Ingresos', 'Gastos'],\n",
        "                          var_name='Tipo', value_name='Monto')\n",
        "\n",
        "    fig_bar = px.bar(dff_melted, x='Mes', y='Monto', color='Categoría', barmode='stack',\n",
        "                     title='Ingresos y Gastos por Mes',\n",
        "                     labels={'Monto': 'Monto', 'Mes': 'Mes', 'Categoría': 'Categoría', 'Tipo': 'Tipo'},\n",
        "                     hover_data={'Categoría': True, 'Monto': True, 'Tipo': True})\n",
        "\n",
        "    # Gráfico de torta por categoría\n",
        "    dff_pie = df[df['Ingresos'] > 0]\n",
        "    fig_pie = px.pie(dff_pie, values='Ingresos', names='Categoría', title='Distribución de Ingresos por Categoría')\n",
        "\n",
        "    # Datos para la tabla\n",
        "    tabla_data = dff.to_dict('records')\n",
        "\n",
        "    # Cálculo del margen de ganancia neta\n",
        "    dff_grouped = dff.groupby('Mes').agg({'Ingresos': 'sum', 'Gastos': 'sum'}).reset_index()\n",
        "    dff_grouped['Margen de Ganancia Neta'] = (dff_grouped['Ingresos'] - dff_grouped['Gastos']) / dff_grouped['Ingresos']\n",
        "    dff_grouped['Rentabilidad'] = dff_grouped['Margen de Ganancia Neta'] * 100\n",
        "\n",
        "    # Gráfico de líneas de margen neto con línea de tendencia\n",
        "    fig_line = px.line(dff_grouped, x='Mes', y='Margen de Ganancia Neta', markers=True, title='Margen de Ganancia Neta por Mes')\n",
        "\n",
        "    # Regresión lineal para la línea de tendencia\n",
        "    X = np.arange(len(dff_grouped)).reshape(-1, 1)  # Índices como variable independiente\n",
        "    y = dff_grouped['Margen de Ganancia Neta'].values  # Margen de ganancia neta como variable dependiente\n",
        "    model = LinearRegression().fit(X, y)\n",
        "    trend_line = model.predict(X)\n",
        "\n",
        "    fig_line.add_scatter(x=dff_grouped['Mes'], y=trend_line, mode='lines', line=dict(dash='dash'), name='Línea de Tendencia')\n",
        "\n",
        "    # Scorecard\n",
        "    margen_total = dff_grouped['Margen de Ganancia Neta'].mean()\n",
        "    rentabilidad_status = 'Rentable' if margen_total > 0 else 'No Rentable'\n",
        "    scorecard_text = f'Margen de Ganancia Neta Total: {margen_total:.2%} ({rentabilidad_status})'\n",
        "\n",
        "    return fig_bar, fig_pie, fig_line, scorecard_text, tabla_data\n",
        "\n",
        "# Función para ejecutar el servidor en un hilo separado\n",
        "def run_server():\n",
        "    app.run_server(port=8050, debug=False)\n",
        "\n",
        "# Iniciar el servidor en un hilo separado\n",
        "thread = threading.Thread(target=run_server)\n",
        "thread.start()\n",
        "\n",
        "# Configurar el túnel ngrok\n",
        "public_url = ngrok.connect(8050)\n",
        "print(f\"Dash app URL: {public_url}\")"
      ]
    }
  ],
  "metadata": {
    "colab": {
      "provenance": []
    },
    "kernelspec": {
      "display_name": "Python 3",
      "name": "python3"
    },
    "language_info": {
      "name": "python"
    }
  },
  "nbformat": 4,
  "nbformat_minor": 0
}